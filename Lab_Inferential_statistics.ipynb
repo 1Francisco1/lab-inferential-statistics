{
 "cells": [
  {
   "cell_type": "markdown",
   "id": "ddb4fe12",
   "metadata": {},
   "source": [
    "# Lab | Inferential statistics"
   ]
  },
  {
   "cell_type": "markdown",
   "id": "c672d60d",
   "metadata": {},
   "source": [
    "It is assumed that the mean systolic blood pressure is μ = 120 mm Hg. In the Honolulu Heart Study, a sample of n = 100 people had an average systolic blood pressure of 130.1 mm Hg with a standard deviation of 21.21 mm Hg. Is the group significantly different (with respect to systolic blood pressure!) from the regular population?"
   ]
  },
  {
   "cell_type": "code",
   "execution_count": 4,
   "id": "6bea3a6b",
   "metadata": {},
   "outputs": [
    {
     "data": {
      "text/plain": [
       "4.761904761904759"
      ]
     },
     "execution_count": 4,
     "metadata": {},
     "output_type": "execute_result"
    }
   ],
   "source": [
    "#1.Set up the hypothesis test.\n",
    "import math\n",
    "\n",
    "mean_systolic_bp = 120\n",
    "\n",
    "sample = 100\n",
    "\n",
    "avg_sample_bp = 130.1\n",
    "\n",
    "sample_st_deviation = 21.21\n",
    "\n",
    "statistic = (avg_sample_bp - mean_systolic_bp)/(sample_st_deviation/math.sqrt(sample))\n",
    "statistic"
   ]
  },
  {
   "cell_type": "markdown",
   "id": "c3fbce26",
   "metadata": {},
   "source": [
    "Looking at the result, the null hypothesis can be discarded. We can also verify that the group is in fact somewhat different from the regular population."
   ]
  },
  {
   "cell_type": "code",
   "execution_count": null,
   "id": "20e1b7b8",
   "metadata": {},
   "outputs": [],
   "source": []
  }
 ],
 "metadata": {
  "kernelspec": {
   "display_name": "Python 3",
   "language": "python",
   "name": "python3"
  },
  "language_info": {
   "codemirror_mode": {
    "name": "ipython",
    "version": 3
   },
   "file_extension": ".py",
   "mimetype": "text/x-python",
   "name": "python",
   "nbconvert_exporter": "python",
   "pygments_lexer": "ipython3",
   "version": "3.8.8"
  }
 },
 "nbformat": 4,
 "nbformat_minor": 5
}
